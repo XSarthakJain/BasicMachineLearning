{
 "cells": [
  {
   "cell_type": "code",
   "execution_count": 1,
   "metadata": {},
   "outputs": [],
   "source": [
    "import pandas as pd\n",
    "import matplotlib.pyplot as mt\n",
    "from sklearn.datasets import load_digits"
   ]
  },
  {
   "cell_type": "code",
   "execution_count": 3,
   "metadata": {},
   "outputs": [
    {
     "data": {
      "text/plain": [
       "['DESCR', 'data', 'images', 'target', 'target_names']"
      ]
     },
     "execution_count": 3,
     "metadata": {},
     "output_type": "execute_result"
    }
   ],
   "source": [
    "digit=load_digits()\n",
    "dir(digit)"
   ]
  },
  {
   "cell_type": "code",
   "execution_count": 6,
   "metadata": {},
   "outputs": [
    {
     "data": {
      "text/plain": [
       "sklearn.utils.Bunch"
      ]
     },
     "execution_count": 6,
     "metadata": {},
     "output_type": "execute_result"
    }
   ],
   "source": [
    "type(digit)"
   ]
  },
  {
   "cell_type": "code",
   "execution_count": 9,
   "metadata": {},
   "outputs": [
    {
     "data": {
      "text/plain": [
       "KFold(n_splits=3, random_state=None, shuffle=False)"
      ]
     },
     "execution_count": 9,
     "metadata": {},
     "output_type": "execute_result"
    }
   ],
   "source": [
    "#import K Fold Library\n",
    "from sklearn.model_selection import KFold\n",
    "kf=KFold(n_splits=3)\n",
    "kf"
   ]
  },
  {
   "cell_type": "code",
   "execution_count": 10,
   "metadata": {},
   "outputs": [
    {
     "name": "stdout",
     "output_type": "stream",
     "text": [
      "[3 4 5 6 7 8] [0 1 2]\n",
      "[0 1 2 6 7 8] [3 4 5]\n",
      "[0 1 2 3 4 5] [6 7 8]\n"
     ]
    }
   ],
   "source": [
    "#Just for Know How K Fold works\n",
    "for train_index,test_index in kf.split([1,2,3,4,5,6,7,8,9]):\n",
    "    print(train_index,test_index)"
   ]
  },
  {
   "cell_type": "code",
   "execution_count": 23,
   "metadata": {},
   "outputs": [
    {
     "data": {
      "text/plain": [
       "StratifiedKFold(n_splits=3, random_state=None, shuffle=False)"
      ]
     },
     "execution_count": 23,
     "metadata": {},
     "output_type": "execute_result"
    }
   ],
   "source": [
    "from sklearn.model_selection import StratifiedKFold\n",
    "folds=StratifiedKFold(n_splits=3)\n",
    "folds\n"
   ]
  },
  {
   "cell_type": "code",
   "execution_count": 29,
   "metadata": {},
   "outputs": [],
   "source": [
    "def get_score(model,X_Train,X_Test,Y_Train,Y_Test):\n",
    "    model.fit(X_Train,Y_Train)\n",
    "    return model.score(X_Test,Y_Test)"
   ]
  },
  {
   "cell_type": "code",
   "execution_count": 30,
   "metadata": {},
   "outputs": [
    {
     "name": "stdout",
     "output_type": "stream",
     "text": [
      "0.8964941569282137\n",
      "0.9515859766277128\n",
      "0.9115191986644408\n"
     ]
    }
   ],
   "source": [
    "from sklearn.linear_model import LogisticRegression#For Logistic Regression\n",
    "modelReg=LogisticRegression()#Make a Model for LogisticRegression\n",
    "for train_index,test_index in kf.split(digit.data):\n",
    "    X_Train,X_Test,Y_Train,Y_Test=digit.data[train_index],digit.data[test_index],digit.target[train_index],digit.target[test_index]\n",
    "    print(get_score(modelReg,X_Train,X_Test,Y_Train,Y_Test))"
   ]
  },
  {
   "cell_type": "code",
   "execution_count": 32,
   "metadata": {},
   "outputs": [
    {
     "name": "stdout",
     "output_type": "stream",
     "text": [
      "0.7662771285475793\n",
      "0.8196994991652755\n",
      "0.7796327212020033\n"
     ]
    }
   ],
   "source": [
    "from sklearn.tree import DecisionTreeClassifier#For Decision Tree Model\n",
    "modelDec=DecisionTreeClassifier()#Make a Model for Decision Tree\n",
    "for train_index,test_index in kf.split(digit.data):\n",
    "    X_Train,X_Test,Y_Train,Y_Test=digit.data[train_index],digit.data[test_index],digit.target[train_index],digit.target[test_index]\n",
    "    print(get_score(modelDec,X_Train,X_Test,Y_Train,Y_Test))"
   ]
  },
  {
   "cell_type": "code",
   "execution_count": 39,
   "metadata": {},
   "outputs": [
    {
     "name": "stdout",
     "output_type": "stream",
     "text": [
      "0.9348914858096828\n",
      "0.9565943238731218\n",
      "0.9398998330550918\n"
     ]
    }
   ],
   "source": [
    "from sklearn.svm import SVC#For Support Vector Classification\n",
    "modelSVC=SVC(kernel=\"linear\")#Make a Model of Support Vector Classification\n",
    "for train_index,test_index in kf.split(digit.data):\n",
    "    X_Train,X_Test,Y_Train,Y_Test=digit.data[train_index],digit.data[test_index],digit.target[train_index],digit.target[test_index]\n",
    "    print(get_score(modelSVC,X_Train,X_Test,Y_Train,Y_Test))\n"
   ]
  },
  {
   "cell_type": "code",
   "execution_count": 50,
   "metadata": {},
   "outputs": [
    {
     "name": "stdout",
     "output_type": "stream",
     "text": [
      "0.9198664440734557\n",
      "0.9449081803005008\n",
      "0.9165275459098498\n"
     ]
    }
   ],
   "source": [
    "from sklearn.ensemble import RandomForestClassifier#For Random Forest Classifier\n",
    "modelRandomForest=RandomForestClassifier(n_estimators=45)#Make a Model n_estimator refers to the number of Decision Tree you want\n",
    "for train_index,test_index in kf.split(digit.data):\n",
    "    X_Train,X_Test,Y_Train,Y_Test=digit.data[train_index],digit.data[test_index],digit.target[train_index],digit.target[test_index]\n",
    "    print(get_score(modelRandomForest,X_Train,X_Test,Y_Train,Y_Test))"
   ]
  },
  {
   "cell_type": "code",
   "execution_count": 55,
   "metadata": {},
   "outputs": [
    {
     "data": {
      "text/plain": [
       "array([0.89534884, 0.94991653, 0.90939597])"
      ]
     },
     "execution_count": 55,
     "metadata": {},
     "output_type": "execute_result"
    }
   ],
   "source": [
    "#cross validation Technique\n",
    "from sklearn.model_selection import cross_val_score\n",
    "cross_val_score(LogisticRegression(),digit.data,digit.target)"
   ]
  },
  {
   "cell_type": "code",
   "execution_count": null,
   "metadata": {},
   "outputs": [],
   "source": []
  }
 ],
 "metadata": {
  "kernelspec": {
   "display_name": "Python 3",
   "language": "python",
   "name": "python3"
  },
  "language_info": {
   "codemirror_mode": {
    "name": "ipython",
    "version": 3
   },
   "file_extension": ".py",
   "mimetype": "text/x-python",
   "name": "python",
   "nbconvert_exporter": "python",
   "pygments_lexer": "ipython3",
   "version": "3.6.5"
  }
 },
 "nbformat": 4,
 "nbformat_minor": 2
}
