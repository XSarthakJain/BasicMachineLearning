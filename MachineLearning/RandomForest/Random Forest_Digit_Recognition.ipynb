{
 "cells": [
  {
   "cell_type": "code",
   "execution_count": 53,
   "metadata": {},
   "outputs": [],
   "source": [
    "import pandas as pd\n",
    "import numpy as np\n",
    "from sklearn.datasets import load_digits"
   ]
  },
  {
   "cell_type": "code",
   "execution_count": 54,
   "metadata": {},
   "outputs": [],
   "source": [
    "digit=load_digits()\n"
   ]
  },
  {
   "cell_type": "code",
   "execution_count": 55,
   "metadata": {},
   "outputs": [
    {
     "data": {
      "text/plain": [
       "['DESCR', 'data', 'images', 'target', 'target_names']"
      ]
     },
     "execution_count": 55,
     "metadata": {},
     "output_type": "execute_result"
    }
   ],
   "source": [
    "dir(digit)"
   ]
  },
  {
   "cell_type": "code",
   "execution_count": 64,
   "metadata": {},
   "outputs": [
    {
     "data": {
      "text/plain": [
       "<matplotlib.image.AxesImage at 0xbf15390>"
      ]
     },
     "execution_count": 64,
     "metadata": {},
     "output_type": "execute_result"
    },
    {
     "data": {
      "text/plain": [
       "<Figure size 432x288 with 0 Axes>"
      ]
     },
     "metadata": {},
     "output_type": "display_data"
    },
    {
     "data": {
      "image/png": "[encoded data removed]",
      "text/plain": [
       "<Figure size 288x288 with 1 Axes>"
      ]
     },
     "metadata": {},
     "output_type": "display_data"
    }
   ],
   "source": [
    "#To Show Digits\n",
    "import matplotlib.pyplot as mt\n",
    "mt.gray()\n",
    "mt.matshow(digit.images[0])\n"
   ]
  },
  {
   "cell_type": "code",
   "execution_count": 57,
   "metadata": {},
   "outputs": [],
   "source": [
    "X=pd.DataFrame(digit.data)\n",
    "Y=pd.DataFrame(digit.target)\n"
   ]
  },
  {
   "cell_type": "code",
   "execution_count": 58,
   "metadata": {},
   "outputs": [],
   "source": [
    "#Split DataSet into Training and Test DataSet\n",
    "from sklearn.model_selection import train_test_split\n",
    "X_Train,X_Test,Y_Train,Y_Test=train_test_split(X,Y,test_size=0.2)"
   ]
  },
  {
   "cell_type": "code",
   "execution_count": 59,
   "metadata": {},
   "outputs": [],
   "source": [
    "#Make a Model\n",
    "from sklearn.ensemble import RandomForestClassifier"
   ]
  },
  {
   "cell_type": "code",
   "execution_count": 60,
   "metadata": {},
   "outputs": [
    {
     "name": "stderr",
     "output_type": "stream",
     "text": [
      "C:\\ProgramData\\Anaconda3\\lib\\site-packages\\ipykernel_launcher.py:2: DataConversionWarning: A column-vector y was passed when a 1d array was expected. Please change the shape of y to (n_samples,), for example using ravel().\n",
      "  \n"
     ]
    },
    {
     "data": {
      "text/plain": [
       "RandomForestClassifier(bootstrap=True, class_weight=None, criterion='gini',\n",
       "            max_depth=None, max_features='auto', max_leaf_nodes=None,\n",
       "            min_impurity_decrease=0.0, min_impurity_split=None,\n",
       "            min_samples_leaf=1, min_samples_split=2,\n",
       "            min_weight_fraction_leaf=0.0, n_estimators=45, n_jobs=1,\n",
       "            oob_score=False, random_state=None, verbose=0,\n",
       "            warm_start=False)"
      ]
     },
     "execution_count": 60,
     "metadata": {},
     "output_type": "execute_result"
    }
   ],
   "source": [
    "model=RandomForestClassifier(n_estimators=45)#n_estimators refer to number of Decision tree you want\n",
    "model.fit(X_Train,Y_Train)"
   ]
  },
  {
   "cell_type": "code",
   "execution_count": 61,
   "metadata": {},
   "outputs": [
    {
     "data": {
      "text/plain": [
       "array([5, 1, 3, 2, 9, 6, 5, 7, 2, 1, 4, 5, 6, 2, 3, 6, 7, 5, 3, 6, 4, 8,\n",
       "       9, 3, 6, 1, 3, 9, 6, 5, 0, 9, 5, 4, 8, 6, 2, 3, 3, 0, 5, 6, 3, 0,\n",
       "       4, 3, 3, 4, 7, 9, 1, 4, 2, 0, 5, 4, 7, 8, 3, 3, 9, 7, 0, 3, 4, 1,\n",
       "       5, 9, 5, 0, 1, 9, 7, 8, 3, 4, 3, 1, 6, 3, 4, 2, 5, 1, 1, 4, 7, 7,\n",
       "       9, 7, 2, 6, 9, 6, 6, 1, 1, 4, 8, 8, 7, 0, 7, 9, 1, 3, 1, 5, 5, 3,\n",
       "       0, 1, 5, 3, 1, 3, 2, 9, 8, 9, 2, 9, 0, 4, 9, 2, 7, 4, 9, 0, 9, 4,\n",
       "       8, 4, 1, 3, 0, 2, 7, 0, 6, 0, 6, 5, 0, 1, 7, 9, 5, 1, 3, 1, 4, 6,\n",
       "       0, 1, 0, 8, 8, 3, 5, 8, 1, 7, 9, 4, 4, 3, 1, 3, 1, 3, 0, 6, 2, 5,\n",
       "       6, 3, 0, 9, 6, 8, 4, 0, 4, 1, 6, 9, 7, 9, 6, 1, 7, 7, 3, 5, 2, 4,\n",
       "       0, 3, 8, 5, 6, 5, 3, 1, 3, 1, 9, 0, 3, 5, 9, 2, 9, 2, 3, 7, 6, 4,\n",
       "       5, 2, 4, 5, 1, 8, 4, 5, 8, 5, 6, 9, 8, 5, 9, 2, 9, 3, 3, 5, 2, 1,\n",
       "       0, 8, 1, 0, 4, 6, 5, 7, 7, 7, 6, 5, 6, 8, 7, 0, 7, 4, 5, 5, 3, 7,\n",
       "       9, 7, 7, 2, 2, 1, 0, 6, 8, 6, 7, 4, 4, 3, 6, 2, 0, 0, 1, 2, 8, 7,\n",
       "       0, 9, 7, 4, 8, 2, 5, 4, 6, 1, 0, 5, 0, 6, 8, 3, 3, 0, 2, 3, 1, 8,\n",
       "       3, 9, 8, 1, 2, 1, 4, 1, 5, 4, 4, 6, 9, 6, 8, 3, 9, 9, 9, 0, 7, 8,\n",
       "       1, 2, 6, 9, 7, 4, 2, 1, 0, 5, 8, 9, 5, 8, 8, 3, 5, 6, 4, 6, 7, 3,\n",
       "       3, 3, 6, 9, 9, 2, 7, 7])"
      ]
     },
     "execution_count": 61,
     "metadata": {},
     "output_type": "execute_result"
    }
   ],
   "source": [
    "#Predict Section\n",
    "model.predict(X_Test)"
   ]
  },
  {
   "cell_type": "code",
   "execution_count": 62,
   "metadata": {},
   "outputs": [
    {
     "data": {
      "text/plain": [
       "0.9777777777777777"
      ]
     },
     "execution_count": 62,
     "metadata": {},
     "output_type": "execute_result"
    }
   ],
   "source": [
    "model.score(X_Test,Y_Test)"
   ]
  },
  {
   "cell_type": "code",
   "execution_count": 65,
   "metadata": {},
   "outputs": [],
   "source": [
    "#To Understand Where our model is gaiting fail\n",
    "from sklearn.metrics import confusion_matrix"
   ]
  },
  {
   "cell_type": "code",
   "execution_count": 66,
   "metadata": {},
   "outputs": [],
   "source": [
    "cm=confusion_matrix(Y_Test,model.predict(X_Test))"
   ]
  },
  {
   "cell_type": "code",
   "execution_count": 67,
   "metadata": {},
   "outputs": [
    {
     "data": {
      "text/plain": [
       "array([[33,  0,  0,  0,  0,  0,  0,  0,  0,  0],\n",
       "       [ 0, 37,  0,  0,  0,  0,  0,  0,  0,  0],\n",
       "       [ 0,  0, 28,  0,  0,  0,  0,  0,  0,  0],\n",
       "       [ 0,  0,  0, 46,  0,  1,  0,  0,  1,  0],\n",
       "       [ 0,  0,  0,  0, 35,  0,  0,  0,  0,  0],\n",
       "       [ 0,  0,  0,  0,  0, 35,  0,  0,  0,  0],\n",
       "       [ 0,  0,  0,  0,  0,  1, 37,  0,  0,  0],\n",
       "       [ 0,  0,  0,  0,  0,  0,  0, 35,  0,  1],\n",
       "       [ 0,  2,  0,  0,  0,  0,  0,  0, 28,  0],\n",
       "       [ 0,  0,  0,  0,  1,  1,  0,  0,  0, 38]], dtype=int64)"
      ]
     },
     "execution_count": 67,
     "metadata": {},
     "output_type": "execute_result"
    }
   ],
   "source": [
    "cm"
   ]
  },
  {
   "cell_type": "code",
   "execution_count": 69,
   "metadata": {},
   "outputs": [
    {
     "data": {
      "text/plain": [
       "Text(69,0.5,'Truth')"
      ]
     },
     "execution_count": 69,
     "metadata": {},
     "output_type": "execute_result"
    },
    {
     "data": {
      "image/png": "[encoded data removed]",
      "text/plain": [
       "<Figure size 720x504 with 2 Axes>"
      ]
     },
     "metadata": {},
     "output_type": "display_data"
    }
   ],
   "source": [
    "import seaborn as sb\n",
    "mt.figure(figsize=(10,7))\n",
    "sb.heatmap(cm,annot=True)\n",
    "mt.xlabel(\"Predicted\")\n",
    "mt.ylabel(\"Truth\")"
   ]
  },
  {
   "cell_type": "code",
   "execution_count": null,
   "metadata": {},
   "outputs": [],
   "source": []
  }
 ],
 "metadata": {
  "kernelspec": {
   "display_name": "Python 3",
   "language": "python",
   "name": "python3"
  },
  "language_info": {
   "codemirror_mode": {
    "name": "ipython",
    "version": 3
   },
   "file_extension": ".py",
   "mimetype": "text/x-python",
   "name": "python",
   "nbconvert_exporter": "python",
   "pygments_lexer": "ipython3",
   "version": "3.6.5"
  }
 },
 "nbformat": 4,
 "nbformat_minor": 2
}
