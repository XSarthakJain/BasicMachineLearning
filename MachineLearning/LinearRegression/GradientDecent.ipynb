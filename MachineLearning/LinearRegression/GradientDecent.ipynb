{
 "cells": [
  {
   "cell_type": "code",
   "execution_count": 1,
   "metadata": {},
   "outputs": [],
   "source": [
    "import pandas as pd\n",
    "import numpy as np\n",
    "import matplotlib.pyplot as mt\n"
   ]
  },
  {
   "cell_type": "code",
   "execution_count": 3,
   "metadata": {},
   "outputs": [],
   "source": [
    "x=np.arange(10)"
   ]
  },
  {
   "cell_type": "code",
   "execution_count": 4,
   "metadata": {},
   "outputs": [
    {
     "data": {
      "text/plain": [
       "array([0, 1, 2, 3, 4, 5, 6, 7, 8, 9])"
      ]
     },
     "execution_count": 4,
     "metadata": {},
     "output_type": "execute_result"
    }
   ],
   "source": [
    "x"
   ]
  },
  {
   "cell_type": "code",
   "execution_count": 20,
   "metadata": {},
   "outputs": [],
   "source": [
    "def lossfun(x):\n",
    "    return (x-5)**2"
   ]
  },
  {
   "cell_type": "code",
   "execution_count": 21,
   "metadata": {},
   "outputs": [],
   "source": [
    "loss=lossfun(x)"
   ]
  },
  {
   "cell_type": "code",
   "execution_count": 11,
   "metadata": {},
   "outputs": [
    {
     "data": {
      "text/plain": [
       "[]"
      ]
     },
     "execution_count": 11,
     "metadata": {},
     "output_type": "execute_result"
    },
    {
     "data": {
      "image/png": "[encoded data removed]",
      "text/plain": [
       "<Figure size 576x396 with 1 Axes>"
      ]
     },
     "metadata": {},
     "output_type": "display_data"
    }
   ],
   "source": [
    "mt.style.use(\"seaborn\")\n",
    "mt.plot(loss)\n",
    "mt.plot()"
   ]
  },
  {
   "cell_type": "code",
   "execution_count": 17,
   "metadata": {},
   "outputs": [],
   "source": [
    "def gredDecent():\n",
    "    x_=0\n",
    "    learning_rate=0.1\n",
    "    \n",
    "    for i in range(40):\n",
    "        grad=2*(x_-5)\n",
    "        x_=x_-learning_rate*grad\n",
    "        l=lossfun(x_)\n",
    "        print(\"x=  %.3f , loss= %.3f\"%(x_,l))"
   ]
  },
  {
   "cell_type": "code",
   "execution_count": 18,
   "metadata": {},
   "outputs": [
    {
     "name": "stdout",
     "output_type": "stream",
     "text": [
      "x=  1.000 , loss= 16.000\n",
      "x=  1.800 , loss= 10.240\n",
      "x=  2.440 , loss= 6.554\n",
      "x=  2.952 , loss= 4.194\n",
      "x=  3.362 , loss= 2.684\n",
      "x=  3.689 , loss= 1.718\n",
      "x=  3.951 , loss= 1.100\n",
      "x=  4.161 , loss= 0.704\n",
      "x=  4.329 , loss= 0.450\n",
      "x=  4.463 , loss= 0.288\n",
      "x=  4.571 , loss= 0.184\n",
      "x=  4.656 , loss= 0.118\n",
      "x=  4.725 , loss= 0.076\n",
      "x=  4.780 , loss= 0.048\n",
      "x=  4.824 , loss= 0.031\n",
      "x=  4.859 , loss= 0.020\n",
      "x=  4.887 , loss= 0.013\n",
      "x=  4.910 , loss= 0.008\n",
      "x=  4.928 , loss= 0.005\n",
      "x=  4.942 , loss= 0.003\n",
      "x=  4.954 , loss= 0.002\n",
      "x=  4.963 , loss= 0.001\n",
      "x=  4.970 , loss= 0.001\n",
      "x=  4.976 , loss= 0.001\n",
      "x=  4.981 , loss= 0.000\n",
      "x=  4.985 , loss= 0.000\n",
      "x=  4.988 , loss= 0.000\n",
      "x=  4.990 , loss= 0.000\n",
      "x=  4.992 , loss= 0.000\n",
      "x=  4.994 , loss= 0.000\n",
      "x=  4.995 , loss= 0.000\n",
      "x=  4.996 , loss= 0.000\n",
      "x=  4.997 , loss= 0.000\n",
      "x=  4.997 , loss= 0.000\n",
      "x=  4.998 , loss= 0.000\n",
      "x=  4.998 , loss= 0.000\n",
      "x=  4.999 , loss= 0.000\n",
      "x=  4.999 , loss= 0.000\n",
      "x=  4.999 , loss= 0.000\n",
      "x=  4.999 , loss= 0.000\n"
     ]
    }
   ],
   "source": [
    "gredDecent()"
   ]
  },
  {
   "cell_type": "code",
   "execution_count": null,
   "metadata": {},
   "outputs": [],
   "source": []
  }
 ],
 "metadata": {
  "kernelspec": {
   "display_name": "Python 3",
   "language": "python",
   "name": "python3"
  },
  "language_info": {
   "codemirror_mode": {
    "name": "ipython",
    "version": 3
   },
   "file_extension": ".py",
   "mimetype": "text/x-python",
   "name": "python",
   "nbconvert_exporter": "python",
   "pygments_lexer": "ipython3",
   "version": "3.6.5"
  }
 },
 "nbformat": 4,
 "nbformat_minor": 2
}
