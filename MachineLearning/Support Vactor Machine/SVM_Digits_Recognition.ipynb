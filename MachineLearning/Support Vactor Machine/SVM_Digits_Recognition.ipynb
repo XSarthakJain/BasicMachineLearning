{
 "cells": [
  {
   "cell_type": "code",
   "execution_count": 103,
   "metadata": {},
   "outputs": [],
   "source": [
    "import pandas as pd\n",
    "from sklearn.datasets import load_digits"
   ]
  },
  {
   "cell_type": "code",
   "execution_count": 104,
   "metadata": {},
   "outputs": [],
   "source": [
    "ld=load_digits()"
   ]
  },
  {
   "cell_type": "code",
   "execution_count": 105,
   "metadata": {},
   "outputs": [
    {
     "data": {
      "text/plain": [
       "['DESCR', 'data', 'images', 'target', 'target_names']"
      ]
     },
     "execution_count": 105,
     "metadata": {},
     "output_type": "execute_result"
    }
   ],
   "source": [
    "dir(ld)"
   ]
  },
  {
   "cell_type": "code",
   "execution_count": 106,
   "metadata": {},
   "outputs": [],
   "source": [
    "x=pd.DataFrame(ld.data)\n",
    "y=pd.DataFrame(ld.target)"
   ]
  },
  {
   "cell_type": "code",
   "execution_count": 107,
   "metadata": {},
   "outputs": [],
   "source": [
    "#Split dataSet into Training and Test DataSet\n",
    "from sklearn.model_selection import train_test_split"
   ]
  },
  {
   "cell_type": "code",
   "execution_count": 108,
   "metadata": {},
   "outputs": [],
   "source": [
    "X_Train,X_Test,Y_Train,Y_Test=train_test_split(x,y,test_size=0.2)"
   ]
  },
  {
   "cell_type": "code",
   "execution_count": 109,
   "metadata": {},
   "outputs": [],
   "source": [
    "#import Support Vector Model\n",
    "from sklearn.svm import SVC"
   ]
  },
  {
   "cell_type": "code",
   "execution_count": 110,
   "metadata": {},
   "outputs": [
    {
     "name": "stderr",
     "output_type": "stream",
     "text": [
      "C:\\ProgramData\\Anaconda3\\lib\\site-packages\\sklearn\\utils\\validation.py:578: DataConversionWarning: A column-vector y was passed when a 1d array was expected. Please change the shape of y to (n_samples, ), for example using ravel().\n",
      "  y = column_or_1d(y, warn=True)\n"
     ]
    },
    {
     "data": {
      "text/plain": [
       "SVC(C=1.0, cache_size=200, class_weight=None, coef0=0.0,\n",
       "  decision_function_shape='ovr', degree=3, gamma='auto', kernel='linear',\n",
       "  max_iter=-1, probability=False, random_state=None, shrinking=True,\n",
       "  tol=0.001, verbose=False)"
      ]
     },
     "execution_count": 110,
     "metadata": {},
     "output_type": "execute_result"
    }
   ],
   "source": [
    "#Make a Model\n",
    "model=SVC(kernel=\"linear\")#Through kernel=\"linear\" it will give High Score\n",
    "model.fit(X_Train,Y_Train)\n"
   ]
  },
  {
   "cell_type": "code",
   "execution_count": 111,
   "metadata": {},
   "outputs": [
    {
     "data": {
      "text/plain": [
       "array([9, 2, 8, 9, 6, 1, 4, 3, 4, 4, 8, 2, 3, 2, 8, 1, 6, 5, 8, 4, 0, 3,\n",
       "       5, 3, 5, 9, 4, 5, 0, 5, 7, 5, 8, 7, 3, 1, 4, 3, 3, 3, 8, 5, 1, 5,\n",
       "       2, 6, 8, 4, 9, 8, 1, 8, 1, 7, 6, 0, 0, 3, 4, 4, 4, 5, 4, 4, 6, 1,\n",
       "       1, 0, 6, 4, 9, 5, 8, 9, 2, 1, 7, 2, 4, 7, 2, 1, 8, 9, 6, 0, 4, 3,\n",
       "       7, 9, 6, 7, 8, 2, 5, 2, 1, 1, 7, 1, 6, 9, 3, 9, 0, 2, 4, 3, 2, 6,\n",
       "       3, 3, 7, 6, 8, 7, 7, 4, 5, 7, 2, 6, 1, 3, 0, 1, 8, 1, 5, 9, 4, 1,\n",
       "       9, 9, 2, 9, 1, 0, 8, 1, 3, 3, 0, 8, 9, 7, 5, 0, 1, 4, 8, 7, 6, 3,\n",
       "       5, 3, 1, 3, 7, 8, 1, 8, 1, 6, 1, 0, 8, 1, 4, 4, 3, 7, 3, 8, 1, 0,\n",
       "       7, 0, 4, 6, 7, 4, 5, 2, 8, 0, 5, 6, 4, 5, 6, 0, 0, 3, 1, 6, 7, 0,\n",
       "       0, 5, 3, 7, 2, 1, 5, 7, 6, 1, 2, 4, 5, 6, 4, 0, 7, 7, 8, 6, 1, 6,\n",
       "       4, 0, 1, 5, 4, 7, 5, 7, 9, 4, 5, 7, 2, 2, 8, 2, 3, 0, 1, 2, 2, 5,\n",
       "       2, 9, 7, 8, 8, 5, 4, 8, 1, 4, 9, 5, 8, 4, 7, 1, 0, 3, 0, 7, 2, 6,\n",
       "       8, 7, 0, 0, 8, 9, 0, 0, 6, 6, 0, 1, 8, 2, 4, 0, 4, 0, 7, 3, 6, 0,\n",
       "       0, 4, 1, 9, 8, 5, 3, 5, 5, 5, 7, 8, 1, 8, 6, 9, 0, 1, 6, 6, 3, 4,\n",
       "       4, 5, 1, 0, 5, 3, 0, 3, 3, 0, 7, 1, 2, 3, 8, 2, 8, 0, 0, 7, 3, 7,\n",
       "       3, 3, 4, 9, 1, 6, 8, 6, 8, 6, 0, 0, 2, 4, 8, 1, 6, 9, 5, 7, 0, 2,\n",
       "       0, 5, 4, 5, 2, 3, 0, 9])"
      ]
     },
     "execution_count": 111,
     "metadata": {},
     "output_type": "execute_result"
    }
   ],
   "source": [
    "model.predict(X_Test)"
   ]
  },
  {
   "cell_type": "code",
   "execution_count": 113,
   "metadata": {},
   "outputs": [
    {
     "data": {
      "text/plain": [
       "0.9833333333333333"
      ]
     },
     "execution_count": 113,
     "metadata": {},
     "output_type": "execute_result"
    }
   ],
   "source": [
    "model.score(X_Test,Y_Test)\n"
   ]
  },
  {
   "cell_type": "code",
   "execution_count": null,
   "metadata": {},
   "outputs": [],
   "source": []
  },
  {
   "cell_type": "code",
   "execution_count": null,
   "metadata": {},
   "outputs": [],
   "source": []
  }
 ],
 "metadata": {
  "kernelspec": {
   "display_name": "Python 3",
   "language": "python",
   "name": "python3"
  },
  "language_info": {
   "codemirror_mode": {
    "name": "ipython",
    "version": 3
   },
   "file_extension": ".py",
   "mimetype": "text/x-python",
   "name": "python",
   "nbconvert_exporter": "python",
   "pygments_lexer": "ipython3",
   "version": "3.6.5"
  }
 },
 "nbformat": 4,
 "nbformat_minor": 2
}
